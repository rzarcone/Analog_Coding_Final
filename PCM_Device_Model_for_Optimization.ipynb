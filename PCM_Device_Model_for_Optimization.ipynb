{
 "cells": [
  {
   "cell_type": "markdown",
   "metadata": {},
   "source": [
    "Notebook to construct the model of the pcm device used to optimize the encoder/decoder -- Ryan Zarcone"
   ]
  },
  {
   "cell_type": "code",
   "execution_count": 1,
   "metadata": {},
   "outputs": [],
   "source": [
    "import numpy as np\n",
    "import matplotlib.pyplot as plt\n",
    "import pandas as pd\n",
    "import blahut\n",
    "import os\n",
    "from skimage import io, transform"
   ]
  },
  {
   "cell_type": "code",
   "execution_count": 2,
   "metadata": {},
   "outputs": [],
   "source": [
    "def get_raw_data(path, pcm_device = 'new', device_num=0):\n",
    "    \"\"\"\n",
    "    Load raw data from a path.\n",
    "    Parameters\n",
    "    ----------\n",
    "    path : str\n",
    "        Absolute path to the data.\n",
    "    Returns\n",
    "    -------\n",
    "    Vs : np.array, shape (len(data),)\n",
    "    Rs : np.array, shape (len(data),)\n",
    "    \"\"\"\n",
    "\n",
    "    data = pd.read_pickle(path)\n",
    "    \n",
    "    if pcm_device == 'new':\n",
    "        device_idx = [data['Device'] == device_num]\n",
    "        Vs = np.array(data['V'][device_idx[0]])\n",
    "        Rs = np.array(data['R'][device_idx[0]])\n",
    "    else: \n",
    "        Vs = np.array(data['V'])\n",
    "        Rs = np.array(data['R'])\n",
    "        \n",
    "    Rs = np.log10(Rs)\n",
    "    Vs = np.array(Vs)\n",
    "    Rs = np.array(Rs)\n",
    "    \n",
    "    return Vs,Rs\n",
    "\n",
    "def range_extender(Vs, Rs, num_ext):\n",
    "    \"\"\"\n",
    "    Extends the range of the memristor function so that the min and max R values are\n",
    "    repeated num_ext times past min and max V\n",
    "    Parameters\n",
    "    ----------\n",
    "    Vs : np.array, shape (len(data),)\n",
    "    Rs : np.array, shape (len(data),)\n",
    "    num_ext : float\n",
    "        Number of times the end values should be repeated\n",
    "    \"\"\"\n",
    "    num_ext = int(num_ext)\n",
    "    Vs = np.array(Vs)\n",
    "    Rs = np.array(Rs)\n",
    "    delta_V = Vs[1]-Vs[0]\n",
    "    orig_min_Vs = np.amin(Vs)\n",
    "    orig_max_Vs = np.amax(Vs)\n",
    "    for i in range(num_ext):\n",
    "        min_Vs = np.amin(Vs)\n",
    "        max_Vs = np.amax(Vs)\n",
    "        min_Vs_indx = [Vs == min_Vs]\n",
    "        max_Vs_indx = [Vs == max_Vs]\n",
    "        Rs_min = Rs[tuple(min_Vs_indx)]\n",
    "        Rs_max = Rs[tuple(max_Vs_indx)]\n",
    "        Vs_min = Vs[tuple(min_Vs_indx)] - delta_V\n",
    "        Vs_max = Vs[tuple(max_Vs_indx)] + delta_V\n",
    "        Vs = np.append(Vs,Vs_min)\n",
    "        Vs = np.append(Vs,Vs_max)\n",
    "        Rs = np.append(Rs,Rs_min)\n",
    "        Rs = np.append(Rs,Rs_max)\n",
    "    return Vs, Rs, orig_min_Vs, orig_max_Vs\n",
    "\n",
    "def normalizer(x,new_min,new_max):\n",
    "    x_max = np.amax(x)\n",
    "    x_min = np.amin(x)\n",
    "\n",
    "    return (((x-x_min)/(x_max-x_min))*(new_max-new_min)+new_min)\n",
    "\n",
    "def get_memristor_data(path, pcm_device, n_mem, num_ext=2, norm_min=-1., norm_max=1., normalize=True):\n",
    "    \"\"\"\n",
    "    Parameters\n",
    "    ----------\n",
    "    path : str\n",
    "        Absolute path to the data.\n",
    "    n_mem : float\n",
    "        Number of memristors we want to simulate\n",
    "    num_ext : float\n",
    "        Number of times the end values should be repeated (see range_extender)\n",
    "    Returns\n",
    "    -------\n",
    "    vs : np.array, shape (n_samp, n_mem)\n",
    "    mus : np.array, shape (n_samp, n_mem)\n",
    "    sigs : np.array, shape (n_samp, n_mem)\n",
    "    orig_min_Vs : float\n",
    "    orig_max_Vs : float\n",
    "    \"\"\"\n",
    "    \n",
    "    if pcm_device == 'new':\n",
    "        diffs = np.array([0.32,0.4,0.12,0.115,0.235,0.0,0.26])\n",
    "        device_nums = np.arange(7)\n",
    "        Vs, Rs = get_raw_data(path, pcm_device = 'new', device_num = 0)\n",
    "        Rs = Rs+diffs[0]\n",
    "        for i in device_nums[1:]:\n",
    "            V_new, R_new = get_raw_data(path, pcm_device = 'new', device_num = device_nums[i])\n",
    "            Vs = np.append(Vs,V_new)\n",
    "            Rs = np.append(Rs,R_new+diffs[i])            \n",
    "    else:\n",
    "        Vs,Rs = get_raw_data(path, pcm_device = 'old')\n",
    "\n",
    "    orig_min_Vs = np.amin(Vs)\n",
    "    orig_max_Vs = np.amax(Vs)\n",
    "    orig_min_Rs = np.amin(Rs)\n",
    "    orig_max_Rs = np.amax(Rs)\n",
    "    \n",
    "    if normalize: \n",
    "        Vs = normalizer(Vs,norm_min,norm_max)\n",
    "        Rs = normalizer(Rs,norm_min,norm_max)\n",
    "\n",
    "    Vs, Rs, _, _ = range_extender(Vs,Rs,num_ext)\n",
    "\n",
    "    mus, sigs, vs = blahut.moments(Vs,Rs)\n",
    "\n",
    "    vs = np.broadcast_to(vs[:,None], (vs.size, n_mem)).astype(np.float32)\n",
    "    mus = np.broadcast_to(mus[:,None], (mus.size, n_mem)).astype(np.float32)\n",
    "    sigs = np.broadcast_to(sigs[:,None], (sigs.size, n_mem)).astype(np.float32)\n",
    "\n",
    "    return vs, mus, sigs, orig_min_Vs, orig_max_Vs, orig_min_Rs, orig_max_Rs"
   ]
  },
  {
   "cell_type": "code",
   "execution_count": 3,
   "metadata": {},
   "outputs": [],
   "source": [
    "path = 'PCM_20140605.pkl'\n",
    "pcm_device = \"new\"\n",
    "n_mem = 1\n",
    "\n",
    "norm_min = -2.\n",
    "norm_max = 2."
   ]
  },
  {
   "cell_type": "code",
   "execution_count": 4,
   "metadata": {},
   "outputs": [],
   "source": [
    "vs, mus, sigs, orig_min_Vs, orig_max_Vs, orig_min_Rs, orig_max_Rs = get_memristor_data(pcm_device = pcm_device, \n",
    "                                                                                              path=path, \n",
    "                                                                                              n_mem=n_mem, \n",
    "                                                                                              norm_min=norm_min, \n",
    "                                                                                              norm_max=norm_max)"
   ]
  },
  {
   "cell_type": "code",
   "execution_count": 5,
   "metadata": {},
   "outputs": [
    {
     "data": {
      "text/plain": [
       "[<matplotlib.lines.Line2D at 0x136190dd8>]"
      ]
     },
     "execution_count": 5,
     "metadata": {},
     "output_type": "execute_result"
    },
    {
     "data": {
      "image/png": "[encoded data removed]",
      "text/plain": [
       "<Figure size 432x288 with 1 Axes>"
      ]
     },
     "metadata": {
      "needs_background": "light"
     },
     "output_type": "display_data"
    }
   ],
   "source": [
    "plt.plot(vs, mus+sigs, c=\"red\")\n",
    "plt.plot(vs, mus)\n",
    "plt.plot(vs, mus-sigs, c=\"red\")"
   ]
  }
 ],
 "metadata": {
  "kernelspec": {
   "display_name": "Python 3",
   "language": "python",
   "name": "python3"
  },
  "language_info": {
   "codemirror_mode": {
    "name": "ipython",
    "version": 3
   },
   "file_extension": ".py",
   "mimetype": "text/x-python",
   "name": "python",
   "nbconvert_exporter": "python",
   "pygments_lexer": "ipython3",
   "version": "3.7.2"
  }
 },
 "nbformat": 4,
 "nbformat_minor": 2
}
